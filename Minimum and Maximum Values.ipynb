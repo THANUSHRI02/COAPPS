{
 "cells": [
  {
   "cell_type": "code",
   "execution_count": 1,
   "id": "ce4da57d-1dac-4023-9020-aec55e9bdacb",
   "metadata": {},
   "outputs": [
    {
     "name": "stdout",
     "output_type": "stream",
     "text": [
      "Requirement already satisfied: numpy in c:\\users\\dell\\anaconda3\\lib\\site-packages (1.26.4)\n",
      "Note: you may need to restart the kernel to use updated packages.\n"
     ]
    }
   ],
   "source": [
    "pip install numpy"
   ]
  },
  {
   "cell_type": "code",
   "execution_count": 1,
   "id": "9d09f4b1-eb92-4c39-a0b1-5216527c4d91",
   "metadata": {},
   "outputs": [],
   "source": [
    "import numpy as np"
   ]
  },
  {
   "cell_type": "code",
   "execution_count": 2,
   "id": "a342e74e-93c4-4864-b732-fc109c5d2938",
   "metadata": {},
   "outputs": [],
   "source": [
    "matrix = np.random.rand(5, 5)"
   ]
  },
  {
   "cell_type": "code",
   "execution_count": 3,
   "id": "120a5f8a-843c-42f2-a2ca-91de6790434c",
   "metadata": {},
   "outputs": [
    {
     "name": "stdout",
     "output_type": "stream",
     "text": [
      "[[0.7852914  0.65049614 0.91480158 0.90412532 0.51904882]\n",
      " [0.18864471 0.12950717 0.30428549 0.89223234 0.17479159]\n",
      " [0.50752574 0.35678054 0.11327694 0.42603522 0.18869059]\n",
      " [0.54540082 0.85822663 0.95378087 0.73973158 0.00251042]\n",
      " [0.43880498 0.77203834 0.59562541 0.46262978 0.73725539]]\n"
     ]
    }
   ],
   "source": [
    "print (matrix)"
   ]
  },
  {
   "cell_type": "code",
   "execution_count": 4,
   "id": "a15ea314-a945-4b53-b675-7a1a61435ab7",
   "metadata": {},
   "outputs": [],
   "source": [
    "row_min = np.min(matrix, axis=1)\n",
    "row_max = np.max(matrix, axis=1)\n",
    "\n",
    "col_min = np.min(matrix, axis=0)\n",
    "col_max = np.max(matrix, axis=0)"
   ]
  },
  {
   "cell_type": "code",
   "execution_count": 5,
   "id": "2e267eb3-b038-419d-8b0a-8285e962b0b5",
   "metadata": {},
   "outputs": [
    {
     "name": "stdout",
     "output_type": "stream",
     "text": [
      "Minimum values along each row: [0.51904882 0.12950717 0.11327694 0.00251042 0.43880498]\n",
      "Maximum values along each row: [0.91480158 0.89223234 0.50752574 0.95378087 0.77203834]\n",
      "Minimum values along each column: [0.18864471 0.12950717 0.11327694 0.42603522 0.00251042]\n",
      "Maximum values along each column: [0.7852914  0.85822663 0.95378087 0.90412532 0.73725539]\n"
     ]
    }
   ],
   "source": [
    "print(\"Minimum values along each row:\", row_min)\n",
    "print(\"Maximum values along each row:\", row_max)\n",
    "print(\"Minimum values along each column:\", col_min)\n",
    "print(\"Maximum values along each column:\", col_max)"
   ]
  },
  {
   "cell_type": "code",
   "execution_count": 6,
   "id": "f7994fe3-a763-497d-828e-1facd6fd8fd3",
   "metadata": {},
   "outputs": [
    {
     "name": "stdin",
     "output_type": "stream",
     "text": [
      "Enter the number of rows:  5\n",
      "Enter the number of columns:  5\n",
      "Enter element for row 1, column 1:  3\n",
      "Enter element for row 1, column 2:  2\n",
      "Enter element for row 1, column 3:  5\n",
      "Enter element for row 1, column 4:  6\n",
      "Enter element for row 1, column 5:  7\n",
      "Enter element for row 2, column 1:  1\n",
      "Enter element for row 2, column 2:  2\n",
      "Enter element for row 2, column 3:  3\n",
      "Enter element for row 2, column 4:  4\n",
      "Enter element for row 2, column 5:  5\n",
      "Enter element for row 3, column 1:  9\n",
      "Enter element for row 3, column 2:  8\n",
      "Enter element for row 3, column 3:  7\n",
      "Enter element for row 3, column 4:  6\n",
      "Enter element for row 3, column 5:  5\n",
      "Enter element for row 4, column 1:  7\n",
      "Enter element for row 4, column 2:  4\n",
      "Enter element for row 4, column 3:  5\n",
      "Enter element for row 4, column 4:  2\n",
      "Enter element for row 4, column 5:  1\n",
      "Enter element for row 5, column 1:  0\n",
      "Enter element for row 5, column 2:  5\n",
      "Enter element for row 5, column 3:  6\n",
      "Enter element for row 5, column 4:  0\n",
      "Enter element for row 5, column 5:  9\n"
     ]
    },
    {
     "name": "stdout",
     "output_type": "stream",
     "text": [
      "Minimum values along each row: [2.0, 1.0, 5.0, 1.0, 0.0]\n",
      "Maximum values along each row: [7.0, 5.0, 9.0, 7.0, 9.0]\n",
      "Minimum values along each column: [0.0, 2.0, 3.0, 0.0, 1.0]\n",
      "Maximum values along each column: [9.0, 8.0, 7.0, 6.0, 9.0]\n"
     ]
    }
   ],
   "source": [
    "def generate_matrix(rows, cols):\n",
    "  matrix = []\n",
    "  for i in range(rows):\n",
    "    row = []\n",
    "    for j in range(cols):\n",
    "      value = float(input(f\"Enter element for row {i+1}, column {j+1}: \"))\n",
    "      row.append(value)\n",
    "    matrix.append(row)\n",
    "  return matrix\n",
    "\n",
    "def find_min_max_row(matrix):\n",
    "  row_min = []\n",
    "  row_max = []\n",
    "  for row in matrix:\n",
    "    min_value = row[0]\n",
    "    max_value = row[0]\n",
    "    for value in row:\n",
    "      min_value = min(min_value, value)\n",
    "      max_value = max(max_value, value)\n",
    "    row_min.append(min_value)\n",
    "    row_max.append(max_value)\n",
    "  return row_min, row_max\n",
    "\n",
    "def find_min_max_col(matrix):\n",
    "  cols = len(matrix[0])\n",
    "  col_min = [float('inf')] * cols\n",
    "  col_max = [float('-inf')] * cols\n",
    "  for row in matrix:\n",
    "    for i in range(cols):\n",
    "      col_min[i] = min(col_min[i], row[i])\n",
    "      col_max[i] = max(col_max[i], row[i])\n",
    "  return col_min, col_max\n",
    "\n",
    "rows = int(input(\"Enter the number of rows: \"))\n",
    "cols = int(input(\"Enter the number of columns: \"))\n",
    "\n",
    "matrix = generate_matrix(rows, cols)\n",
    "\n",
    "row_min, row_max = find_min_max_row(matrix)\n",
    "col_min, col_max = find_min_max_col(matrix)\n",
    "\n",
    "print(\"Minimum values along each row:\", row_min)\n",
    "print(\"Maximum values along each row:\", row_max)\n",
    "print(\"Minimum values along each column:\", col_min)\n",
    "print(\"Maximum values along each column:\", col_max)\n"
   ]
  },
  {
   "cell_type": "code",
   "execution_count": null,
   "id": "0045891d-87ff-4f6a-b8f7-9399d1d40d0e",
   "metadata": {},
   "outputs": [],
   "source": []
  }
 ],
 "metadata": {
  "kernelspec": {
   "display_name": "Python 3 (ipykernel)",
   "language": "python",
   "name": "python3"
  },
  "language_info": {
   "codemirror_mode": {
    "name": "ipython",
    "version": 3
   },
   "file_extension": ".py",
   "mimetype": "text/x-python",
   "name": "python",
   "nbconvert_exporter": "python",
   "pygments_lexer": "ipython3",
   "version": "3.11.7"
  }
 },
 "nbformat": 4,
 "nbformat_minor": 5
}
