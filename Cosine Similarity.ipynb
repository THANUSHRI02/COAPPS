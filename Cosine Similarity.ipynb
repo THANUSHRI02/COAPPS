{
 "cells": [
  {
   "cell_type": "code",
   "execution_count": 1,
   "id": "a13834db-d5c9-408a-9b84-ce0f2c641ba2",
   "metadata": {},
   "outputs": [
    {
     "name": "stdout",
     "output_type": "stream",
     "text": [
      "Requirement already satisfied: numpy in c:\\users\\dell\\anaconda3\\lib\\site-packages (1.26.4)\n",
      "Note: you may need to restart the kernel to use updated packages.\n"
     ]
    }
   ],
   "source": [
    "pip install numpy"
   ]
  },
  {
   "cell_type": "code",
   "execution_count": 1,
   "id": "7e7260ff-7b2e-4f89-862c-36f0b06aa89b",
   "metadata": {},
   "outputs": [],
   "source": [
    "import numpy as np"
   ]
  },
  {
   "cell_type": "code",
   "execution_count": 3,
   "id": "fd444831-f004-4f30-83e2-47816b4d21d9",
   "metadata": {},
   "outputs": [],
   "source": [
    "def cosine_similarity(vec1, vec2):\n",
    "  vec1_norm = np.linalg.norm(vec1)\n",
    "  vec2_norm = np.linalg.norm(vec2)\n",
    "  if vec1_norm == 0 or vec2_norm == 0:\n",
    "    return 0  \n",
    "  return np.dot(vec1, vec2) / (vec1_norm * vec2_norm)\n"
   ]
  },
  {
   "cell_type": "code",
   "execution_count": 4,
   "id": "49018805-cc22-460b-9529-1fd509099267",
   "metadata": {},
   "outputs": [],
   "source": [
    "v1 = np.array([1, 2, 3])\n",
    "v2 = np.array([4, 5, 6])"
   ]
  },
  {
   "cell_type": "code",
   "execution_count": 5,
   "id": "b55753f7-b413-4743-9959-9d5dfbe25c72",
   "metadata": {},
   "outputs": [
    {
     "name": "stdout",
     "output_type": "stream",
     "text": [
      "Cosine similarity between vectors: 0.9746318461970762\n"
     ]
    }
   ],
   "source": [
    "similarity = cosine_similarity(v1, v2)\n",
    "print(\"Cosine similarity between vectors:\", similarity)"
   ]
  },
  {
   "cell_type": "code",
   "execution_count": 6,
   "id": "9bbc3bb4-7359-483a-8356-bbd73001506b",
   "metadata": {},
   "outputs": [
    {
     "name": "stdout",
     "output_type": "stream",
     "text": [
      "Cosine similarity between vectors: 0.9746318461970762\n"
     ]
    }
   ],
   "source": [
    "import numpy as np\n",
    "\n",
    "v1 = np.array([1, 2, 3])\n",
    "v2 = np.array([4, 5, 6])\n",
    "\n",
    "dot_product = np.sum(v1 * v2)\n",
    "\n",
    "v1_mag = np.sqrt(np.sum(v1**2))\n",
    "v2_mag = np.sqrt(np.sum(v2**2))\n",
    "\n",
    "if v1_mag == 0 or v2_mag == 0:\n",
    "  similarity = 0\n",
    "else:\n",
    "  similarity = dot_product / (v1_mag * v2_mag)\n",
    "\n",
    "print(\"Cosine similarity between vectors:\", similarity)\n"
   ]
  },
  {
   "cell_type": "code",
   "execution_count": null,
   "id": "493a3398-9eaf-4c31-9264-75098ea153ab",
   "metadata": {},
   "outputs": [],
   "source": []
  }
 ],
 "metadata": {
  "kernelspec": {
   "display_name": "Python 3 (ipykernel)",
   "language": "python",
   "name": "python3"
  },
  "language_info": {
   "codemirror_mode": {
    "name": "ipython",
    "version": 3
   },
   "file_extension": ".py",
   "mimetype": "text/x-python",
   "name": "python",
   "nbconvert_exporter": "python",
   "pygments_lexer": "ipython3",
   "version": "3.11.7"
  }
 },
 "nbformat": 4,
 "nbformat_minor": 5
}
